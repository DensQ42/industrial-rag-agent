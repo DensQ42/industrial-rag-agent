{
 "cells": [
  {
   "cell_type": "markdown",
   "id": "ace2a8d5",
   "metadata": {},
   "source": [
    "### Clear memory"
   ]
  },
  {
   "cell_type": "code",
   "execution_count": 1,
   "id": "0a933101",
   "metadata": {},
   "outputs": [
    {
     "data": {
      "text/plain": [
       "0"
      ]
     },
     "execution_count": 1,
     "metadata": {},
     "output_type": "execute_result"
    }
   ],
   "source": [
    "%reset -f\n",
    "import gc\n",
    "gc.collect()"
   ]
  },
  {
   "cell_type": "markdown",
   "id": "7024e1a3",
   "metadata": {},
   "source": [
    "### Import"
   ]
  },
  {
   "cell_type": "code",
   "execution_count": 2,
   "id": "41ab3230",
   "metadata": {},
   "outputs": [],
   "source": [
    "import numpy as np\n",
    "import pandas as pd\n",
    "from matplotlib import pyplot as plt\n",
    "import seaborn as sns\n",
    "import pymupdf, json, requests, re, sys\n",
    "from sentence_transformers import SentenceTransformer\n",
    "from pathlib import Path\n",
    "from tqdm.auto import tqdm\n",
    "from typing import List, Tuple, Dict, Any, Optional\n",
    "import chromadb\n",
    "from chromadb.config import Settings\n",
    "pd.set_option('display.max_columns', None)\n",
    "pd.set_option('display.max_rows', None)\n",
    "sns.set_style('whitegrid')\n",
    "%matplotlib inline"
   ]
  },
  {
   "cell_type": "code",
   "execution_count": 3,
   "id": "94934ce3",
   "metadata": {},
   "outputs": [],
   "source": [
    "import warnings\n",
    "warnings.filterwarnings('ignore', category=DeprecationWarning)\n",
    "warnings.filterwarnings('ignore', category=FutureWarning)\n",
    "warnings.filterwarnings('ignore', category=UserWarning)"
   ]
  },
  {
   "cell_type": "code",
   "execution_count": 4,
   "id": "df1e7c83",
   "metadata": {},
   "outputs": [],
   "source": [
    "sys.path.append('..')\n",
    "from src.data_utils import *"
   ]
  },
  {
   "cell_type": "markdown",
   "id": "12df7556",
   "metadata": {},
   "source": [
    "# Data Loading\n",
    "Load chunks, prepared in the first notebook"
   ]
  },
  {
   "cell_type": "code",
   "execution_count": 5,
   "id": "17067259",
   "metadata": {},
   "outputs": [
    {
     "data": {
      "text/html": [
       "<div>\n",
       "<style scoped>\n",
       "    .dataframe tbody tr th:only-of-type {\n",
       "        vertical-align: middle;\n",
       "    }\n",
       "\n",
       "    .dataframe tbody tr th {\n",
       "        vertical-align: top;\n",
       "    }\n",
       "\n",
       "    .dataframe thead th {\n",
       "        text-align: right;\n",
       "    }\n",
       "</style>\n",
       "<table border=\"1\" class=\"dataframe\">\n",
       "  <thead>\n",
       "    <tr style=\"text-align: right;\">\n",
       "      <th></th>\n",
       "      <th>chunk_id</th>\n",
       "      <th>text</th>\n",
       "      <th>page_num</th>\n",
       "      <th>char_count</th>\n",
       "      <th>start_char</th>\n",
       "      <th>end_char</th>\n",
       "    </tr>\n",
       "  </thead>\n",
       "  <tbody>\n",
       "    <tr>\n",
       "      <th>0</th>\n",
       "      <td>0</td>\n",
       "      <td>User Guide AWS Toolkit for Microsoft Azure Dev...</td>\n",
       "      <td>1</td>\n",
       "      <td>134</td>\n",
       "      <td>0</td>\n",
       "      <td>134</td>\n",
       "    </tr>\n",
       "    <tr>\n",
       "      <th>1</th>\n",
       "      <td>1</td>\n",
       "      <td>AWS Toolkit for Microsoft Azure DevOps User Gu...</td>\n",
       "      <td>2</td>\n",
       "      <td>582</td>\n",
       "      <td>0</td>\n",
       "      <td>582</td>\n",
       "    </tr>\n",
       "    <tr>\n",
       "      <th>2</th>\n",
       "      <td>2</td>\n",
       "      <td>AWS Toolkit for Microsoft Azure DevOps User Gu...</td>\n",
       "      <td>3</td>\n",
       "      <td>983</td>\n",
       "      <td>0</td>\n",
       "      <td>983</td>\n",
       "    </tr>\n",
       "  </tbody>\n",
       "</table>\n",
       "</div>"
      ],
      "text/plain": [
       "   chunk_id                                               text  page_num  \\\n",
       "0         0  User Guide AWS Toolkit for Microsoft Azure Dev...         1   \n",
       "1         1  AWS Toolkit for Microsoft Azure DevOps User Gu...         2   \n",
       "2         2  AWS Toolkit for Microsoft Azure DevOps User Gu...         3   \n",
       "\n",
       "   char_count  start_char  end_char  \n",
       "0         134           0       134  \n",
       "1         582           0       582  \n",
       "2         983           0       983  "
      ]
     },
     "execution_count": 5,
     "metadata": {},
     "output_type": "execute_result"
    }
   ],
   "source": [
    "chunks = pd.read_json('../data/processed/chunks.json', orient='records')\n",
    "\n",
    "chunks.head(3)"
   ]
  },
  {
   "cell_type": "code",
   "execution_count": 6,
   "id": "fe1cad3c",
   "metadata": {},
   "outputs": [
    {
     "name": "stdout",
     "output_type": "stream",
     "text": [
      "Number of chunks: 300\n"
     ]
    }
   ],
   "source": [
    "print('Number of chunks:', chunks.shape[0])"
   ]
  },
  {
   "cell_type": "markdown",
   "id": "c570cbf7",
   "metadata": {},
   "source": [
    "# Embeddings Creation\n",
    "### Model Selection\n",
    "For this project `all-MiniLM-L6-v2` model is chosen, due to high performance and relatively small weight. \n"
   ]
  },
  {
   "cell_type": "code",
   "execution_count": 7,
   "id": "d84d687b",
   "metadata": {},
   "outputs": [],
   "source": [
    "model = SentenceTransformer('all-MiniLM-L6-v2')  # all-mpnet-base-v2"
   ]
  },
  {
   "cell_type": "markdown",
   "id": "d8b76f88",
   "metadata": {},
   "source": [
    "### Text Encoding\n",
    "Convert each chunk into an embedding vector "
   ]
  },
  {
   "cell_type": "code",
   "execution_count": 8,
   "id": "89e710c8",
   "metadata": {},
   "outputs": [
    {
     "data": {
      "application/vnd.jupyter.widget-view+json": {
       "model_id": "c5dfe071aa834508b063d206b5b7e9c7",
       "version_major": 2,
       "version_minor": 0
      },
      "text/plain": [
       "Batches:   0%|          | 0/10 [00:00<?, ?it/s]"
      ]
     },
     "metadata": {},
     "output_type": "display_data"
    },
    {
     "name": "stdout",
     "output_type": "stream",
     "text": [
      "Dimension of each embedding: 384\n"
     ]
    }
   ],
   "source": [
    "embeddings = model.encode(\n",
    "    sentences = chunks['text'].tolist(),\n",
    "    show_progress_bar = True,\n",
    ")\n",
    "\n",
    "print('Dimension of each embedding:', embeddings.shape[1])"
   ]
  },
  {
   "cell_type": "markdown",
   "id": "e61cbea3",
   "metadata": {},
   "source": [
    "### Save Embeddings\n",
    "Add embeddings to dataframe with chunks"
   ]
  },
  {
   "cell_type": "code",
   "execution_count": 9,
   "id": "626f6f15",
   "metadata": {},
   "outputs": [
    {
     "data": {
      "text/html": [
       "<div>\n",
       "<style scoped>\n",
       "    .dataframe tbody tr th:only-of-type {\n",
       "        vertical-align: middle;\n",
       "    }\n",
       "\n",
       "    .dataframe tbody tr th {\n",
       "        vertical-align: top;\n",
       "    }\n",
       "\n",
       "    .dataframe thead th {\n",
       "        text-align: right;\n",
       "    }\n",
       "</style>\n",
       "<table border=\"1\" class=\"dataframe\">\n",
       "  <thead>\n",
       "    <tr style=\"text-align: right;\">\n",
       "      <th></th>\n",
       "      <th>chunk_id</th>\n",
       "      <th>text</th>\n",
       "      <th>page_num</th>\n",
       "      <th>char_count</th>\n",
       "      <th>start_char</th>\n",
       "      <th>end_char</th>\n",
       "      <th>embedding</th>\n",
       "    </tr>\n",
       "  </thead>\n",
       "  <tbody>\n",
       "    <tr>\n",
       "      <th>0</th>\n",
       "      <td>0</td>\n",
       "      <td>User Guide AWS Toolkit for Microsoft Azure Dev...</td>\n",
       "      <td>1</td>\n",
       "      <td>134</td>\n",
       "      <td>0</td>\n",
       "      <td>134</td>\n",
       "      <td>[-0.013883891, 0.039782137, -0.03466231, 0.017...</td>\n",
       "    </tr>\n",
       "    <tr>\n",
       "      <th>1</th>\n",
       "      <td>1</td>\n",
       "      <td>AWS Toolkit for Microsoft Azure DevOps User Gu...</td>\n",
       "      <td>2</td>\n",
       "      <td>582</td>\n",
       "      <td>0</td>\n",
       "      <td>582</td>\n",
       "      <td>[-0.056738224, 0.02857147, -0.036580697, -0.01...</td>\n",
       "    </tr>\n",
       "    <tr>\n",
       "      <th>2</th>\n",
       "      <td>2</td>\n",
       "      <td>AWS Toolkit for Microsoft Azure DevOps User Gu...</td>\n",
       "      <td>3</td>\n",
       "      <td>983</td>\n",
       "      <td>0</td>\n",
       "      <td>983</td>\n",
       "      <td>[0.011543587, 0.018591559, -0.085423455, 0.008...</td>\n",
       "    </tr>\n",
       "  </tbody>\n",
       "</table>\n",
       "</div>"
      ],
      "text/plain": [
       "   chunk_id                                               text  page_num  \\\n",
       "0         0  User Guide AWS Toolkit for Microsoft Azure Dev...         1   \n",
       "1         1  AWS Toolkit for Microsoft Azure DevOps User Gu...         2   \n",
       "2         2  AWS Toolkit for Microsoft Azure DevOps User Gu...         3   \n",
       "\n",
       "   char_count  start_char  end_char  \\\n",
       "0         134           0       134   \n",
       "1         582           0       582   \n",
       "2         983           0       983   \n",
       "\n",
       "                                           embedding  \n",
       "0  [-0.013883891, 0.039782137, -0.03466231, 0.017...  \n",
       "1  [-0.056738224, 0.02857147, -0.036580697, -0.01...  \n",
       "2  [0.011543587, 0.018591559, -0.085423455, 0.008...  "
      ]
     },
     "execution_count": 9,
     "metadata": {},
     "output_type": "execute_result"
    }
   ],
   "source": [
    "chunks['embedding'] = list(embeddings)\n",
    "\n",
    "chunks.head(3)"
   ]
  },
  {
   "cell_type": "markdown",
   "id": "51eece7a",
   "metadata": {},
   "source": [
    "# Vector Database Setup\n",
    "Create a database to store embeddings and speed up similarity search. \n",
    "### Initialize Client\n",
    "In this project ChromaDB client is used, because it is free and does not require external server. Use `PersistentClient` to store embeddings on a disk (not in RAM). "
   ]
  },
  {
   "cell_type": "code",
   "execution_count": 10,
   "id": "17ebd543",
   "metadata": {},
   "outputs": [],
   "source": [
    "client = chromadb.PersistentClient(\n",
    "    path='../data/chromadb',\n",
    "    settings=Settings(\n",
    "        anonymized_telemetry=False,\n",
    "        allow_reset=True,\n",
    "    )\n",
    ")"
   ]
  },
  {
   "cell_type": "markdown",
   "id": "c0681687",
   "metadata": {},
   "source": [
    "### Create Collection\n",
    "Create collection called `aws_docs` inside database and also delete the old one if exists. Cosine similarity is used as metric. "
   ]
  },
  {
   "cell_type": "code",
   "execution_count": 11,
   "id": "d384ac1d",
   "metadata": {},
   "outputs": [],
   "source": [
    "try:\n",
    "    client.delete_collection(name='aws_docs')\n",
    "except:\n",
    "    pass\n",
    "\n",
    "collection = client.create_collection(\n",
    "    name = 'aws_docs',\n",
    "    configuration = {'hnsw': {'space': 'cosine'}},\n",
    "    metadata = {'description': 'AWS VSTS documentation chunks'},\n",
    ")"
   ]
  },
  {
   "cell_type": "markdown",
   "id": "e94e7583",
   "metadata": {},
   "source": [
    "### Fill Collection\n",
    "\n",
    "First, unpack ids, embeddings, text chunks and chunks metadata"
   ]
  },
  {
   "cell_type": "code",
   "execution_count": 12,
   "id": "c5b8b888",
   "metadata": {},
   "outputs": [],
   "source": [
    "ids = list(map(str, chunks['chunk_id'].tolist()))\n",
    "embeddings_list = chunks['embedding'].tolist()\n",
    "documents = chunks['text'].tolist()\n",
    "metadatas = chunks[['page_num', 'char_count', 'start_char', 'end_char']].to_dict('records')"
   ]
  },
  {
   "cell_type": "markdown",
   "id": "00577f7d",
   "metadata": {},
   "source": [
    "Add to collection"
   ]
  },
  {
   "cell_type": "code",
   "execution_count": 13,
   "id": "749ca286",
   "metadata": {},
   "outputs": [],
   "source": [
    "collection.add(\n",
    "    ids=ids,\n",
    "    embeddings=embeddings_list,\n",
    "    documents=documents,\n",
    "    metadatas=metadatas,\n",
    ")"
   ]
  },
  {
   "cell_type": "markdown",
   "id": "86a5a89d",
   "metadata": {},
   "source": [
    "### Verify Storage\n",
    "\n",
    "Print random document from the database to verify that everything is stored correctly "
   ]
  },
  {
   "cell_type": "code",
   "execution_count": 14,
   "id": "c991491f",
   "metadata": {},
   "outputs": [
    {
     "name": "stdout",
     "output_type": "stream",
     "text": [
      "ID: 99\n",
      "Page: 42\n",
      "Char quantity: 1000\n",
      "Embedding shape: 384\n",
      "Text preview: entials to be available from EC2 instance metadata the instance must have been started with an instance proﬁle referencing a role granting permissions to the task to make calls to AWS on your behalf. \n"
     ]
    }
   ],
   "source": [
    "sample = collection.get(\n",
    "    ids=['99'],\n",
    "    include=['documents', 'metadatas', 'embeddings']\n",
    ")\n",
    "\n",
    "print('ID:', *sample['ids'])\n",
    "print('Page:', sample['metadatas'][0]['page_num'])\n",
    "print('Char quantity:', sample['metadatas'][0]['char_count'])\n",
    "print('Embedding shape:', sample['embeddings'][0].shape[0])\n",
    "print('Text preview:', sample['documents'][0][:200])"
   ]
  },
  {
   "cell_type": "markdown",
   "id": "694eb199",
   "metadata": {},
   "source": [
    "Everything is stored fine!"
   ]
  },
  {
   "cell_type": "markdown",
   "id": "4e5861fb",
   "metadata": {},
   "source": [
    "# Semantic Search\n",
    "\n",
    "Semantic search is a process of finding the closest chunk in terms of meaning to a query where distance is usually measured by cosine similarity.\n",
    "\n",
    "### Formulate a Search Query"
   ]
  },
  {
   "cell_type": "code",
   "execution_count": 22,
   "id": "aa06a9e6",
   "metadata": {},
   "outputs": [],
   "source": [
    "query = 'If I do not have an AWS account, what do I do?'"
   ]
  },
  {
   "cell_type": "markdown",
   "id": "7128461d",
   "metadata": {},
   "source": [
    "### Perform Semantic Search\n",
    "Use custom function that returns 3 best chunks by default "
   ]
  },
  {
   "cell_type": "code",
   "execution_count": 23,
   "id": "90a49e3e",
   "metadata": {},
   "outputs": [],
   "source": [
    "results = semantic_search(\n",
    "    query,\n",
    "    n_results=3,\n",
    "    model=model,\n",
    "    collection=collection,\n",
    ")"
   ]
  },
  {
   "cell_type": "markdown",
   "id": "57bfea38",
   "metadata": {},
   "source": [
    "### Print Results\n",
    "Use custom function for pretty print"
   ]
  },
  {
   "cell_type": "code",
   "execution_count": 24,
   "id": "512420e7",
   "metadata": {},
   "outputs": [
    {
     "name": "stdout",
     "output_type": "stream",
     "text": [
      "Query: If I do not have an AWS account, what do I do?\n",
      "----------------------------------------------------------------------------------------------------\n",
      "Rank 1 | Similarity: 0.696 | Page: 10 | Chunk ID: 39 | Text preview below (first 300 chars):\n",
      "al.aws.amazon.com/billing/signup. 2. Follow the online instructions. Part of the sign-up procedure involves receiving a phone call or text message and entering a veriﬁcation code on the phone keypad. When you sign up for an AWS account, an AWS account root user is created. The root user has access t...\n",
      "\n",
      "Rank 2 | Similarity: 0.650 | Page: 109 | Chunk ID: 275 | Text preview below (first 300 chars):\n",
      "ministrator – If you're in charge of AWS resources at your company, you probably have full access to AWS. It's your job to determine which AWS features and resources your service users should access. You must then submit requests to your IAM administrator to change the permissions of your service us...\n",
      "\n",
      "Rank 3 | Similarity: 0.596 | Page: 109 | Chunk ID: 276 | Text preview below (first 300 chars):\n",
      "thenticating with identities Authentication is how you sign in to AWS using your identity credentials. You must be authenticated as the AWS account root user, an IAM user, or by assuming an IAM role. You can sign in as a federated identity using credentials from an identity source like AWS IAM Ident...\n",
      "\n"
     ]
    }
   ],
   "source": [
    "print_search_results(results=results, query=query)"
   ]
  },
  {
   "cell_type": "markdown",
   "id": "cdff11c3",
   "metadata": {},
   "source": [
    "### Test It One More Time"
   ]
  },
  {
   "cell_type": "code",
   "execution_count": 27,
   "id": "762b9b32",
   "metadata": {},
   "outputs": [
    {
     "name": "stdout",
     "output_type": "stream",
     "text": [
      "Query: What if I want to allow people outside of my AWS account to access my AWS resources?\n",
      "----------------------------------------------------------------------------------------------------\n",
      "Rank 1 | Similarity: 0.700 | Page: 114 | Chunk ID: 290 | Text preview below (first 300 chars):\n",
      "r organization can use to access your resources. You can specify who is trusted to assume the role. For services that support resource-based policies or access control lists (ACLs), you can use those policies to grant people access to your resources. To learn more, consult the following: • To learn ...\n",
      "\n",
      "Rank 2 | Similarity: 0.692 | Page: 109 | Chunk ID: 275 | Text preview below (first 300 chars):\n",
      "ministrator – If you're in charge of AWS resources at your company, you probably have full access to AWS. It's your job to determine which AWS features and resources your service users should access. You must then submit requests to your IAM administrator to change the permissions of your service us...\n",
      "\n",
      "Rank 3 | Similarity: 0.589 | Page: 96 | Chunk ID: 242 | Text preview below (first 300 chars):\n",
      "erencing a role granting permissions to the task to make calls to AWS on your behalf. For more information, see Using an IAM role to grant permissions to applications running on Amazon EC2 instances. Synopsis 90...\n",
      "\n"
     ]
    }
   ],
   "source": [
    "query = 'What if I want to allow people outside of my AWS account to access my AWS resources?'\n",
    "results = semantic_search(\n",
    "    query,\n",
    "    n_results=3,\n",
    "    model=model,\n",
    "    collection=collection,\n",
    ")\n",
    "print_search_results(results=results, query=query)"
   ]
  }
 ],
 "metadata": {
  "kernelspec": {
   "display_name": "rag",
   "language": "python",
   "name": "python3"
  },
  "language_info": {
   "codemirror_mode": {
    "name": "ipython",
    "version": 3
   },
   "file_extension": ".py",
   "mimetype": "text/x-python",
   "name": "python",
   "nbconvert_exporter": "python",
   "pygments_lexer": "ipython3",
   "version": "3.12.12"
  }
 },
 "nbformat": 4,
 "nbformat_minor": 5
}
