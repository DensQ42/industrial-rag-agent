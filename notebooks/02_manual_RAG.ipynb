{
 "cells": [
  {
   "cell_type": "markdown",
   "id": "ace2a8d5",
   "metadata": {},
   "source": [
    "### Clear memory"
   ]
  },
  {
   "cell_type": "code",
   "execution_count": 27,
   "id": "0a933101",
   "metadata": {},
   "outputs": [
    {
     "data": {
      "text/plain": [
       "0"
      ]
     },
     "execution_count": 27,
     "metadata": {},
     "output_type": "execute_result"
    }
   ],
   "source": [
    "%reset -f\n",
    "import gc\n",
    "gc.collect()"
   ]
  },
  {
   "cell_type": "markdown",
   "id": "7024e1a3",
   "metadata": {},
   "source": [
    "### Import"
   ]
  },
  {
   "cell_type": "code",
   "execution_count": 28,
   "id": "41ab3230",
   "metadata": {},
   "outputs": [],
   "source": [
    "import numpy as np\n",
    "import pandas as pd\n",
    "from matplotlib import pyplot as plt\n",
    "import seaborn as sns\n",
    "import pymupdf, json, requests, re, sys\n",
    "from sentence_transformers import SentenceTransformer\n",
    "from pathlib import Path\n",
    "from tqdm.auto import tqdm\n",
    "from typing import List, Tuple, Dict, Any, Optional\n",
    "import chromadb\n",
    "from chromadb.config import Settings\n",
    "import anthropic\n",
    "from anthropic import Anthropic\n",
    "import os\n",
    "from dotenv import load_dotenv\n",
    "pd.set_option('display.max_columns', None)\n",
    "pd.set_option('display.max_rows', None)\n",
    "sns.set_style('whitegrid')\n",
    "%matplotlib inline"
   ]
  },
  {
   "cell_type": "code",
   "execution_count": 29,
   "id": "94934ce3",
   "metadata": {},
   "outputs": [],
   "source": [
    "import warnings\n",
    "warnings.filterwarnings('ignore', category=DeprecationWarning)\n",
    "warnings.filterwarnings('ignore', category=FutureWarning)\n",
    "warnings.filterwarnings('ignore', category=UserWarning)"
   ]
  },
  {
   "cell_type": "code",
   "execution_count": 30,
   "id": "df1e7c83",
   "metadata": {},
   "outputs": [],
   "source": [
    "sys.path.append('..')\n",
    "from src.data_utils import *"
   ]
  },
  {
   "cell_type": "markdown",
   "id": "12df7556",
   "metadata": {},
   "source": [
    "# Data Loading\n",
    "Load chunks, prepared in the first notebook"
   ]
  },
  {
   "cell_type": "code",
   "execution_count": 31,
   "id": "17067259",
   "metadata": {},
   "outputs": [
    {
     "data": {
      "text/html": [
       "<div>\n",
       "<style scoped>\n",
       "    .dataframe tbody tr th:only-of-type {\n",
       "        vertical-align: middle;\n",
       "    }\n",
       "\n",
       "    .dataframe tbody tr th {\n",
       "        vertical-align: top;\n",
       "    }\n",
       "\n",
       "    .dataframe thead th {\n",
       "        text-align: right;\n",
       "    }\n",
       "</style>\n",
       "<table border=\"1\" class=\"dataframe\">\n",
       "  <thead>\n",
       "    <tr style=\"text-align: right;\">\n",
       "      <th></th>\n",
       "      <th>chunk_id</th>\n",
       "      <th>text</th>\n",
       "      <th>page_num</th>\n",
       "      <th>char_count</th>\n",
       "      <th>start_char</th>\n",
       "      <th>end_char</th>\n",
       "    </tr>\n",
       "  </thead>\n",
       "  <tbody>\n",
       "    <tr>\n",
       "      <th>0</th>\n",
       "      <td>0</td>\n",
       "      <td>User Guide AWS Toolkit for Microsoft Azure Dev...</td>\n",
       "      <td>1</td>\n",
       "      <td>134</td>\n",
       "      <td>0</td>\n",
       "      <td>134</td>\n",
       "    </tr>\n",
       "    <tr>\n",
       "      <th>1</th>\n",
       "      <td>1</td>\n",
       "      <td>AWS Toolkit for Microsoft Azure DevOps User Gu...</td>\n",
       "      <td>2</td>\n",
       "      <td>422</td>\n",
       "      <td>0</td>\n",
       "      <td>422</td>\n",
       "    </tr>\n",
       "    <tr>\n",
       "      <th>2</th>\n",
       "      <td>2</td>\n",
       "      <td>s likely to cause confusion among customers, o...</td>\n",
       "      <td>2</td>\n",
       "      <td>260</td>\n",
       "      <td>322</td>\n",
       "      <td>822</td>\n",
       "    </tr>\n",
       "  </tbody>\n",
       "</table>\n",
       "</div>"
      ],
      "text/plain": [
       "   chunk_id                                               text  page_num  \\\n",
       "0         0  User Guide AWS Toolkit for Microsoft Azure Dev...         1   \n",
       "1         1  AWS Toolkit for Microsoft Azure DevOps User Gu...         2   \n",
       "2         2  s likely to cause confusion among customers, o...         2   \n",
       "\n",
       "   char_count  start_char  end_char  \n",
       "0         134           0       134  \n",
       "1         422           0       422  \n",
       "2         260         322       822  "
      ]
     },
     "execution_count": 31,
     "metadata": {},
     "output_type": "execute_result"
    }
   ],
   "source": [
    "chunks = pd.read_json('../data/processed/chunks.json', orient='records')\n",
    "\n",
    "chunks.head(3)"
   ]
  },
  {
   "cell_type": "code",
   "execution_count": 32,
   "id": "fe1cad3c",
   "metadata": {},
   "outputs": [
    {
     "name": "stdout",
     "output_type": "stream",
     "text": [
      "Number of chunks: 569\n"
     ]
    }
   ],
   "source": [
    "print('Number of chunks:', chunks.shape[0])"
   ]
  },
  {
   "cell_type": "markdown",
   "id": "c570cbf7",
   "metadata": {},
   "source": [
    "# Embeddings Creation\n",
    "### Model Selection\n",
    "For this project `all-MiniLM-L6-v2` model is chosen, due to high performance and relatively small weight. \n"
   ]
  },
  {
   "cell_type": "code",
   "execution_count": 33,
   "id": "d84d687b",
   "metadata": {},
   "outputs": [],
   "source": [
    "embedding_model = SentenceTransformer('all-MiniLM-L6-v2')  # all-mpnet-base-v2"
   ]
  },
  {
   "cell_type": "markdown",
   "id": "d8b76f88",
   "metadata": {},
   "source": [
    "### Text Encoding\n",
    "Convert each chunk into an embedding vector "
   ]
  },
  {
   "cell_type": "code",
   "execution_count": 34,
   "id": "89e710c8",
   "metadata": {},
   "outputs": [
    {
     "data": {
      "application/vnd.jupyter.widget-view+json": {
       "model_id": "9ef7cdfc762545b4848c376b6531c154",
       "version_major": 2,
       "version_minor": 0
      },
      "text/plain": [
       "Batches:   0%|          | 0/18 [00:00<?, ?it/s]"
      ]
     },
     "metadata": {},
     "output_type": "display_data"
    },
    {
     "name": "stdout",
     "output_type": "stream",
     "text": [
      "Dimension of each embedding: 384\n"
     ]
    }
   ],
   "source": [
    "embeddings = embedding_model.encode(\n",
    "    sentences = chunks['text'].tolist(),\n",
    "    show_progress_bar = True,\n",
    ")\n",
    "\n",
    "print('Dimension of each embedding:', embeddings.shape[1])"
   ]
  },
  {
   "cell_type": "markdown",
   "id": "e61cbea3",
   "metadata": {},
   "source": [
    "### Save Embeddings\n",
    "Add embeddings to dataframe with chunks"
   ]
  },
  {
   "cell_type": "code",
   "execution_count": 35,
   "id": "626f6f15",
   "metadata": {},
   "outputs": [
    {
     "data": {
      "text/html": [
       "<div>\n",
       "<style scoped>\n",
       "    .dataframe tbody tr th:only-of-type {\n",
       "        vertical-align: middle;\n",
       "    }\n",
       "\n",
       "    .dataframe tbody tr th {\n",
       "        vertical-align: top;\n",
       "    }\n",
       "\n",
       "    .dataframe thead th {\n",
       "        text-align: right;\n",
       "    }\n",
       "</style>\n",
       "<table border=\"1\" class=\"dataframe\">\n",
       "  <thead>\n",
       "    <tr style=\"text-align: right;\">\n",
       "      <th></th>\n",
       "      <th>chunk_id</th>\n",
       "      <th>text</th>\n",
       "      <th>page_num</th>\n",
       "      <th>char_count</th>\n",
       "      <th>start_char</th>\n",
       "      <th>end_char</th>\n",
       "      <th>embedding</th>\n",
       "    </tr>\n",
       "  </thead>\n",
       "  <tbody>\n",
       "    <tr>\n",
       "      <th>0</th>\n",
       "      <td>0</td>\n",
       "      <td>User Guide AWS Toolkit for Microsoft Azure Dev...</td>\n",
       "      <td>1</td>\n",
       "      <td>134</td>\n",
       "      <td>0</td>\n",
       "      <td>134</td>\n",
       "      <td>[-0.013883891, 0.039782137, -0.03466231, 0.017...</td>\n",
       "    </tr>\n",
       "    <tr>\n",
       "      <th>1</th>\n",
       "      <td>1</td>\n",
       "      <td>AWS Toolkit for Microsoft Azure DevOps User Gu...</td>\n",
       "      <td>2</td>\n",
       "      <td>422</td>\n",
       "      <td>0</td>\n",
       "      <td>422</td>\n",
       "      <td>[-0.05496494, 0.04391669, -0.036545783, 0.0084...</td>\n",
       "    </tr>\n",
       "    <tr>\n",
       "      <th>2</th>\n",
       "      <td>2</td>\n",
       "      <td>s likely to cause confusion among customers, o...</td>\n",
       "      <td>2</td>\n",
       "      <td>260</td>\n",
       "      <td>322</td>\n",
       "      <td>822</td>\n",
       "      <td>[-0.008677264, -0.07277807, 0.006473142, -0.08...</td>\n",
       "    </tr>\n",
       "  </tbody>\n",
       "</table>\n",
       "</div>"
      ],
      "text/plain": [
       "   chunk_id                                               text  page_num  \\\n",
       "0         0  User Guide AWS Toolkit for Microsoft Azure Dev...         1   \n",
       "1         1  AWS Toolkit for Microsoft Azure DevOps User Gu...         2   \n",
       "2         2  s likely to cause confusion among customers, o...         2   \n",
       "\n",
       "   char_count  start_char  end_char  \\\n",
       "0         134           0       134   \n",
       "1         422           0       422   \n",
       "2         260         322       822   \n",
       "\n",
       "                                           embedding  \n",
       "0  [-0.013883891, 0.039782137, -0.03466231, 0.017...  \n",
       "1  [-0.05496494, 0.04391669, -0.036545783, 0.0084...  \n",
       "2  [-0.008677264, -0.07277807, 0.006473142, -0.08...  "
      ]
     },
     "execution_count": 35,
     "metadata": {},
     "output_type": "execute_result"
    }
   ],
   "source": [
    "chunks['embedding'] = list(embeddings)\n",
    "\n",
    "chunks.head(3)"
   ]
  },
  {
   "cell_type": "markdown",
   "id": "51eece7a",
   "metadata": {},
   "source": [
    "# Vector Database Setup\n",
    "Create a database to store embeddings and speed up similarity search. \n",
    "### Initialize Client\n",
    "In this project ChromaDB client is used, because it is free and does not require external server. Use `PersistentClient` to store embeddings on a disk (not in RAM). "
   ]
  },
  {
   "cell_type": "code",
   "execution_count": 36,
   "id": "17ebd543",
   "metadata": {},
   "outputs": [],
   "source": [
    "client = chromadb.PersistentClient(\n",
    "    path='../data/chromadb',\n",
    "    settings=Settings(\n",
    "        anonymized_telemetry=False,\n",
    "        allow_reset=True,\n",
    "    )\n",
    ")"
   ]
  },
  {
   "cell_type": "markdown",
   "id": "c0681687",
   "metadata": {},
   "source": [
    "### Create Collection\n",
    "Create collection called `aws_docs` inside database and also delete the old one if exists. Cosine similarity is used as metric. "
   ]
  },
  {
   "cell_type": "code",
   "execution_count": 37,
   "id": "d384ac1d",
   "metadata": {},
   "outputs": [],
   "source": [
    "try:\n",
    "    client.delete_collection(name='aws_docs')\n",
    "except:\n",
    "    pass\n",
    "\n",
    "collection = client.create_collection(\n",
    "    name = 'aws_docs',\n",
    "    configuration = {'hnsw': {'space': 'cosine'}},\n",
    "    metadata = {'description': 'AWS VSTS documentation chunks'},\n",
    ")"
   ]
  },
  {
   "cell_type": "markdown",
   "id": "e94e7583",
   "metadata": {},
   "source": [
    "### Fill Collection\n",
    "\n",
    "First, unpack ids, embeddings, text chunks and chunks metadata"
   ]
  },
  {
   "cell_type": "code",
   "execution_count": 38,
   "id": "c5b8b888",
   "metadata": {},
   "outputs": [],
   "source": [
    "ids = list(map(str, chunks['chunk_id'].tolist()))\n",
    "embeddings_list = chunks['embedding'].tolist()\n",
    "documents = chunks['text'].tolist()\n",
    "metadatas = chunks[['page_num', 'char_count', 'start_char', 'end_char']].to_dict('records')"
   ]
  },
  {
   "cell_type": "markdown",
   "id": "00577f7d",
   "metadata": {},
   "source": [
    "Add to collection"
   ]
  },
  {
   "cell_type": "code",
   "execution_count": 39,
   "id": "749ca286",
   "metadata": {},
   "outputs": [],
   "source": [
    "collection.add(\n",
    "    ids=ids,\n",
    "    embeddings=embeddings_list,\n",
    "    documents=documents,\n",
    "    metadatas=metadatas,\n",
    ")"
   ]
  },
  {
   "cell_type": "markdown",
   "id": "86a5a89d",
   "metadata": {},
   "source": [
    "### Verify Storage\n",
    "\n",
    "Print random document from the database to verify that everything is stored correctly "
   ]
  },
  {
   "cell_type": "code",
   "execution_count": 40,
   "id": "c991491f",
   "metadata": {},
   "outputs": [
    {
     "name": "stdout",
     "output_type": "stream",
     "text": [
      "ID: 99\n",
      "Page: 15\n",
      "Char quantity: 441\n",
      "Embedding shape: 384\n",
      "Text preview: ironment variables. These variables can be used to get credentials from a custom credentials store. The following are all the supported standard named AWS environment variables: • AWS_ACCESS_KEY_ID – \n"
     ]
    }
   ],
   "source": [
    "sample = collection.get(\n",
    "    ids=['99'],\n",
    "    include=['documents', 'metadatas', 'embeddings']\n",
    ")\n",
    "\n",
    "print('ID:', *sample['ids'])\n",
    "print('Page:', sample['metadatas'][0]['page_num'])\n",
    "print('Char quantity:', sample['metadatas'][0]['char_count'])\n",
    "print('Embedding shape:', sample['embeddings'][0].shape[0])\n",
    "print('Text preview:', sample['documents'][0][:200])"
   ]
  },
  {
   "cell_type": "markdown",
   "id": "694eb199",
   "metadata": {},
   "source": [
    "Everything is stored fine!"
   ]
  },
  {
   "cell_type": "markdown",
   "id": "4e5861fb",
   "metadata": {},
   "source": [
    "# Semantic Search\n",
    "\n",
    "Semantic search is a process of finding the closest chunk in terms of meaning to a query where distance is usually measured by cosine similarity.\n",
    "\n",
    "### Formulate a Search Query"
   ]
  },
  {
   "cell_type": "code",
   "execution_count": 41,
   "id": "aa06a9e6",
   "metadata": {},
   "outputs": [],
   "source": [
    "query = 'If I do not have an AWS account, what do I do?'"
   ]
  },
  {
   "cell_type": "markdown",
   "id": "7128461d",
   "metadata": {},
   "source": [
    "### Perform Semantic Search\n",
    "Use custom function that returns 3 best chunks by default "
   ]
  },
  {
   "cell_type": "code",
   "execution_count": 42,
   "id": "90a49e3e",
   "metadata": {},
   "outputs": [],
   "source": [
    "search_results = semantic_search(\n",
    "    query,\n",
    "    n_results=3,\n",
    "    model=embedding_model,\n",
    "    collection=collection,\n",
    ")"
   ]
  },
  {
   "cell_type": "markdown",
   "id": "57bfea38",
   "metadata": {},
   "source": [
    "### Print Results\n",
    "Use custom function for pretty print"
   ]
  },
  {
   "cell_type": "code",
   "execution_count": 43,
   "id": "512420e7",
   "metadata": {},
   "outputs": [
    {
     "name": "stdout",
     "output_type": "stream",
     "text": [
      "Query: If I do not have an AWS account, what do I do?\n",
      "----------------------------------------------------------------------------------------------------\n",
      "Rank 1 | Similarity: 0.699 | Page: 10 | Chunk ID: 77 | Text preview below (first 300 chars):\n",
      "WS account 1. Open https://portal.aws.amazon.com/billing/signup. 2. Follow the online instructions. Part of the sign-up procedure involves receiving a phone call or text message and entering a veriﬁcation code on the phone keypad. When you sign up for an AWS account, an AWS account root user is crea...\n",
      "\n",
      "Rank 2 | Similarity: 0.639 | Page: 109 | Chunk ID: 521 | Text preview below (first 300 chars):\n",
      "WS, see Troubleshooting AWS identity and access or the user guide of the AWS service you are using. Service administrator – If you're in charge of AWS resources at your company, you probably have full access to AWS. It's your job to determine which AWS features and resources your service users shoul...\n",
      "\n",
      "Rank 3 | Similarity: 0.633 | Page: 109 | Chunk ID: 520 | Text preview below (first 300 chars):\n",
      "your job, then your administrator provides you with the credentials and permissions that you need. As you use more AWS features to do your work, you might need additional permissions. Understanding how access is managed can help you request the right permissions from your administrator. If you canno...\n",
      "\n"
     ]
    }
   ],
   "source": [
    "print_search_results(results=search_results, query=query)"
   ]
  },
  {
   "cell_type": "markdown",
   "id": "cdff11c3",
   "metadata": {},
   "source": [
    "### Test It One More Time"
   ]
  },
  {
   "cell_type": "code",
   "execution_count": 44,
   "id": "762b9b32",
   "metadata": {},
   "outputs": [
    {
     "name": "stdout",
     "output_type": "stream",
     "text": [
      "Query: What if I want to allow people outside of my AWS account to access my AWS resources?\n",
      "----------------------------------------------------------------------------------------------------\n",
      "Rank 1 | Similarity: 0.695 | Page: 114 | Chunk ID: 549 | Text preview below (first 300 chars):\n",
      "perform: iam:PassRole In this case, Mary's policies must be updated to allow her to perform the iam:PassRole action. If you need help, contact your AWS administrator. Your administrator is the person who provided you with your sign-in credentials. I want to allow people outside of my AWS account to ...\n",
      "\n",
      "Rank 2 | Similarity: 0.681 | Page: 114 | Chunk ID: 550 | Text preview below (first 300 chars):\n",
      "r organization can use to access your resources. You can specify who is trusted to assume the role. For services that support resource-based policies or access control lists (ACLs), you can use those policies to grant people access to your resources. To learn more, consult the following: • To learn ...\n",
      "\n",
      "Rank 3 | Similarity: 0.640 | Page: 114 | Chunk ID: 551 | Text preview below (first 300 chars):\n",
      "ccess to your resources across AWS accounts that you own, see Providing access to an IAM user in another AWS account that you own in the IAM User Guide. • To learn how to provide access to your resources to third-party AWS accounts, see Providing access to AWS accounts owned by third parties in the ...\n",
      "\n",
      "Rank 4 | Similarity: 0.628 | Page: 109 | Chunk ID: 520 | Text preview below (first 300 chars):\n",
      "your job, then your administrator provides you with the credentials and permissions that you need. As you use more AWS features to do your work, you might need additional permissions. Understanding how access is managed can help you request the right permissions from your administrator. If you canno...\n",
      "\n",
      "Rank 5 | Similarity: 0.627 | Page: 108 | Chunk ID: 513 | Text preview below (first 300 chars):\n",
      "ment (IAM). That way, each user is given only the permissions necessary to fulﬁll their job duties. We also recommend that you secure your data in the following ways: • Use multi-factor authentication (MFA) with each account. • Use SSL/TLS to communicate with AWS resources. We require TLS 1.2 and re...\n",
      "\n"
     ]
    }
   ],
   "source": [
    "query = 'What if I want to allow people outside of my AWS account to access my AWS resources?'\n",
    "search_results = semantic_search(\n",
    "    query,\n",
    "    n_results=5,\n",
    "    model=embedding_model,\n",
    "    collection=collection,\n",
    ")\n",
    "print_search_results(results=search_results, query=query)"
   ]
  },
  {
   "cell_type": "markdown",
   "id": "6f2c14fc",
   "metadata": {},
   "source": [
    "# Prompt Engineering\n",
    "A good prompt should:\n",
    "- keep clear structure of instructions;\n",
    "- define a role of LLM;\n",
    "- make LLM follow the instructions;\n",
    "- prevent LLM from hallucination;\n",
    "- make LLM provide citations (e.g. document page number).\n",
    "\n",
    "Here is the template that will be used in custom function for generating answer"
   ]
  },
  {
   "cell_type": "code",
   "execution_count": 45,
   "id": "ca446a22",
   "metadata": {},
   "outputs": [],
   "source": [
    "prompt_template = \"\"\"You are an expert at answering questions about Amazon Web Services documentation.\n",
    "\n",
    "INSTRUCTIONS:\n",
    "1. Read all context chunks from documentation carefully\n",
    "2. Identify which chunks contain relevant information\n",
    "3. Synthesize a clear answer using ONLY the provided context\n",
    "4. Do NOT use your general knowledge and do not make assumptions\n",
    "5. Cite page numbers for each piece of information\n",
    "6. Explicitly state if the answer is not in the provided context\n",
    "7. Write in PLAIN TEXT without any formatting (no bold, no italics, no markdown syntax like ** or __)\n",
    "8. You may use line breaks and simple numbering/bullet points for clarity\n",
    "\n",
    "CONTEXT CHUNKS FROM DOCUMENTATION:\n",
    "{context_block}\n",
    "\n",
    "USER QUESTION:\n",
    "{query}\n",
    "\n",
    "Think step-by-step, then provide your final ANSWER only without steps.\n",
    "\n",
    "ANSWER:\"\"\""
   ]
  },
  {
   "cell_type": "markdown",
   "id": "22301f2d",
   "metadata": {},
   "source": [
    "Create a prompt "
   ]
  },
  {
   "cell_type": "code",
   "execution_count": 46,
   "id": "3f804e53",
   "metadata": {},
   "outputs": [],
   "source": [
    "prompt = create_prompt(query, search_results)"
   ]
  },
  {
   "cell_type": "markdown",
   "id": "ce552283",
   "metadata": {},
   "source": [
    "# Answer Generating\n",
    "Due to computational constrains of the local machine, an external LLM is used in this project. \n",
    "### Setup Anthropic API\n",
    "First, we need to set up access to LLM via API. In this project we stick to Claude API"
   ]
  },
  {
   "cell_type": "code",
   "execution_count": 47,
   "id": "5dfba2df",
   "metadata": {},
   "outputs": [],
   "source": [
    "load_dotenv()\n",
    "api_key = os.getenv('ANTHROPIC_API_KEY')\n",
    "\n",
    "client = Anthropic(api_key=api_key)"
   ]
  },
  {
   "cell_type": "markdown",
   "id": "6743c15d",
   "metadata": {},
   "source": [
    "### Use LLM to Generate Answer\n",
    "Send the prompt to Claude and get an answer. In this example we use Haiku 4.5 model, since it the fastest and the cheapest one. Set temperature to 0.3 to make LLM less creative and more deterministic. As alternative LLM, Claude Sonnet 4.5 could be used, it is slower and more expensive, but it has better quality of responses"
   ]
  },
  {
   "cell_type": "code",
   "execution_count": 48,
   "id": "3cdaa339",
   "metadata": {},
   "outputs": [],
   "source": [
    "message = client.messages.create(\n",
    "    model = 'claude-haiku-4-5-20251001',\n",
    "    max_tokens = 500,\n",
    "    messages = [{'role': 'user', 'content': prompt}],\n",
    "    temperature = 0.3,\n",
    ")"
   ]
  },
  {
   "cell_type": "markdown",
   "id": "017be259",
   "metadata": {},
   "source": [
    "Print the answer"
   ]
  },
  {
   "cell_type": "code",
   "execution_count": 49,
   "id": "a48bc30f",
   "metadata": {},
   "outputs": [
    {
     "name": "stdout",
     "output_type": "stream",
     "text": [
      "According to the AWS documentation, if you want to allow people outside of your AWS account to access your AWS resources, you have several options:\n",
      "\n",
      "1. Create a role that users in other accounts or people outside your organization can use to access your resources. You can specify who is trusted to assume the role.\n",
      "\n",
      "2. For services that support resource-based policies or access control lists (ACLs), you can use those policies to grant people access to your resources.\n",
      "\n",
      "The documentation references three specific guides for different scenarios:\n",
      "\n",
      "- To provide access to your resources across AWS accounts that you own, see Providing access to an IAM user in another AWS account that you own in the IAM User Guide.\n",
      "\n",
      "- To provide access to your resources to third-party AWS accounts, see Providing access to AWS accounts owned by third parties in the IAM User Guide.\n",
      "\n",
      "- To provide access through identity federation, see Providing access to externally authenticated users (identity federation) in the IAM User Guide.\n",
      "\n",
      "(Page 114)\n"
     ]
    }
   ],
   "source": [
    "print(message.content[0].text)"
   ]
  },
  {
   "cell_type": "markdown",
   "id": "c66eb652",
   "metadata": {},
   "source": [
    "**Observation:** the model returns clear result with page referencing"
   ]
  },
  {
   "cell_type": "markdown",
   "id": "21fd4518",
   "metadata": {},
   "source": [
    "# Manual RAG Pipeline\n",
    "### Build complete RAG pipeline"
   ]
  },
  {
   "cell_type": "code",
   "execution_count": 50,
   "id": "a433b98c",
   "metadata": {},
   "outputs": [],
   "source": [
    "def rag_pipeline(query: str,\n",
    "                 embedding_model: SentenceTransformer,\n",
    "                 collection: Collection,\n",
    "                 n_results: int = 3,\n",
    "                 llm_name: str = 'claude-haiku-4-5-20251001',\n",
    "                 temperature: int = 0.3,\n",
    "                 max_tokens: int = 500,\n",
    "                 ) -> Dict[str, Any]:\n",
    "    \"\"\"\n",
    "    Complete RAG pipeline\n",
    "    \"\"\"\n",
    "\n",
    "    # Step 1: Semantic search\n",
    "    search_results = semantic_search(\n",
    "        query = query,\n",
    "        model = embedding_model,\n",
    "        collection = collection,\n",
    "        n_results = n_results,\n",
    "    )\n",
    "\n",
    "    # Step 2: Create prompt\n",
    "    prompt = create_prompt(query, search_results)\n",
    "\n",
    "    # Step 3: Generate answer\n",
    "    message = client.messages.create(\n",
    "        model = llm_name,\n",
    "        max_tokens = max_tokens,\n",
    "        messages = [{'role': 'user', 'content': prompt}],\n",
    "        temperature = temperature,\n",
    "    )\n",
    "\n",
    "    answer = message.content[0].text\n",
    "\n",
    "    # Step 4: Return\n",
    "    return {\n",
    "        'query': query,\n",
    "        'answer': answer,\n",
    "        'search_results': search_results,\n",
    "        'prompt': prompt,\n",
    "    }\n"
   ]
  },
  {
   "cell_type": "markdown",
   "id": "beafad02",
   "metadata": {},
   "source": [
    "### Test the Pipeline\n",
    "Test the pipeline with relevant question "
   ]
  },
  {
   "cell_type": "code",
   "execution_count": 51,
   "id": "8d190abc",
   "metadata": {},
   "outputs": [
    {
     "name": "stdout",
     "output_type": "stream",
     "text": [
      "Question:\n",
      "If I do not have an AWS account, what do I do?\n",
      "----------------------------------------------------------------------------------------------------\n",
      "Answer:\n",
      "Based on the provided documentation, if you do not have an AWS account, you should follow these steps (Page 10):\n",
      "\n",
      "1. Open https://portal.aws.amazon.com/billing/signup\n",
      "2. Follow the online instructions\n",
      "3. Complete the sign-up procedure, which involves receiving a phone call or text message and entering a verification code on the phone keypad\n",
      "\n",
      "When you complete the sign-up process, an AWS account root user will be created, which will have access to all AWS services and resources in the account.\n"
     ]
    }
   ],
   "source": [
    "# Test query 1\n",
    "query = 'If I do not have an AWS account, what do I do?'\n",
    "\n",
    "result = rag_pipeline(\n",
    "    query=query,\n",
    "    embedding_model=embedding_model,\n",
    "    collection=collection,\n",
    "    n_results=5,\n",
    ")\n",
    "\n",
    "print('Question:')\n",
    "print(result['query'])\n",
    "print('-'*100)\n",
    "print('Answer:')\n",
    "print(result['answer'])"
   ]
  },
  {
   "cell_type": "markdown",
   "id": "6b019c53",
   "metadata": {},
   "source": [
    "Test the pipeline with irrelevant question "
   ]
  },
  {
   "cell_type": "code",
   "execution_count": 26,
   "id": "7483acfe",
   "metadata": {},
   "outputs": [
    {
     "name": "stdout",
     "output_type": "stream",
     "text": [
      "Question:\n",
      "How do I make a tasty pizza?\n",
      "----------------------------------------------------------------------------------------------------\n",
      "Answer:\n",
      "The provided documentation chunks do not contain any information about making pizza. These chunks appear to be from AWS documentation table of contents or reference materials, containing only structural elements like \"Synopsis,\" \"Description,\" and \"Parameters\" sections.\n",
      "\n",
      "I cannot answer your question based on the provided context, as it is not related to Amazon Web Services documentation.\n"
     ]
    }
   ],
   "source": [
    "query = 'How do I make a tasty pizza?'\n",
    "\n",
    "result = rag_pipeline(\n",
    "    query=query,\n",
    "    embedding_model=embedding_model,\n",
    "    collection=collection,\n",
    "    n_results=3,\n",
    ")\n",
    "\n",
    "print('Question:')\n",
    "print(result['query'])\n",
    "print('-'*100)\n",
    "print('Answer:')\n",
    "print(result['answer'])"
   ]
  },
  {
   "cell_type": "markdown",
   "id": "42c8f05d",
   "metadata": {},
   "source": [
    "**Observation:** the model provides correct answer for relevant question and do not hallucinate after irrelevant question."
   ]
  },
  {
   "cell_type": "markdown",
   "id": "9066830f",
   "metadata": {},
   "source": [
    "# Summary\n",
    "In this notebook were built: \n",
    "- embeddings for chunks\n",
    "- database to store embeddings and chunks\n",
    "- semantic search using cosine similarity \n",
    "- clear amd well-structured prompt for LLMs\n",
    "- complete manual RAG pipeline to generate accurate response without hallucination "
   ]
  }
 ],
 "metadata": {
  "kernelspec": {
   "display_name": "rag",
   "language": "python",
   "name": "python3"
  },
  "language_info": {
   "codemirror_mode": {
    "name": "ipython",
    "version": 3
   },
   "file_extension": ".py",
   "mimetype": "text/x-python",
   "name": "python",
   "nbconvert_exporter": "python",
   "pygments_lexer": "ipython3",
   "version": "3.12.12"
  }
 },
 "nbformat": 4,
 "nbformat_minor": 5
}
