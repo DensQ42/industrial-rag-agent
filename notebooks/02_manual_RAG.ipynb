{
 "cells": [
  {
   "cell_type": "markdown",
   "id": "ace2a8d5",
   "metadata": {},
   "source": [
    "### Clear memory"
   ]
  },
  {
   "cell_type": "code",
   "execution_count": 1,
   "id": "0a933101",
   "metadata": {},
   "outputs": [
    {
     "data": {
      "text/plain": [
       "0"
      ]
     },
     "execution_count": 1,
     "metadata": {},
     "output_type": "execute_result"
    }
   ],
   "source": [
    "%reset -f\n",
    "import gc\n",
    "gc.collect()"
   ]
  },
  {
   "cell_type": "markdown",
   "id": "7024e1a3",
   "metadata": {},
   "source": [
    "### Import"
   ]
  },
  {
   "cell_type": "code",
   "execution_count": 2,
   "id": "41ab3230",
   "metadata": {},
   "outputs": [],
   "source": [
    "import numpy as np\n",
    "import pandas as pd\n",
    "from matplotlib import pyplot as plt\n",
    "import seaborn as sns\n",
    "import pymupdf, json, requests, re, sys\n",
    "from sentence_transformers import SentenceTransformer\n",
    "from pathlib import Path\n",
    "from tqdm.auto import tqdm\n",
    "from typing import List, Tuple, Dict, Any, Optional\n",
    "pd.set_option('display.max_columns', None)\n",
    "pd.set_option('display.max_rows', None)\n",
    "sns.set_style('whitegrid')\n",
    "%matplotlib inline"
   ]
  },
  {
   "cell_type": "code",
   "execution_count": 3,
   "id": "94934ce3",
   "metadata": {},
   "outputs": [],
   "source": [
    "import warnings\n",
    "warnings.filterwarnings('ignore', category=DeprecationWarning)\n",
    "warnings.filterwarnings('ignore', category=FutureWarning)\n",
    "warnings.filterwarnings('ignore', category=UserWarning)"
   ]
  },
  {
   "cell_type": "code",
   "execution_count": 4,
   "id": "df1e7c83",
   "metadata": {},
   "outputs": [],
   "source": [
    "sys.path.append('..')\n",
    "from src.data_utils import *"
   ]
  },
  {
   "cell_type": "markdown",
   "id": "12df7556",
   "metadata": {},
   "source": [
    "# Data Loading\n",
    "Load chunks, prepared in the first notebook"
   ]
  },
  {
   "cell_type": "code",
   "execution_count": 5,
   "id": "17067259",
   "metadata": {},
   "outputs": [
    {
     "data": {
      "text/html": [
       "<div>\n",
       "<style scoped>\n",
       "    .dataframe tbody tr th:only-of-type {\n",
       "        vertical-align: middle;\n",
       "    }\n",
       "\n",
       "    .dataframe tbody tr th {\n",
       "        vertical-align: top;\n",
       "    }\n",
       "\n",
       "    .dataframe thead th {\n",
       "        text-align: right;\n",
       "    }\n",
       "</style>\n",
       "<table border=\"1\" class=\"dataframe\">\n",
       "  <thead>\n",
       "    <tr style=\"text-align: right;\">\n",
       "      <th></th>\n",
       "      <th>chunk_id</th>\n",
       "      <th>text</th>\n",
       "      <th>page_num</th>\n",
       "      <th>char_count</th>\n",
       "      <th>start_char</th>\n",
       "      <th>end_char</th>\n",
       "    </tr>\n",
       "  </thead>\n",
       "  <tbody>\n",
       "    <tr>\n",
       "      <th>0</th>\n",
       "      <td>0</td>\n",
       "      <td>User Guide AWS Toolkit for Microsoft Azure Dev...</td>\n",
       "      <td>1</td>\n",
       "      <td>134</td>\n",
       "      <td>0</td>\n",
       "      <td>134</td>\n",
       "    </tr>\n",
       "    <tr>\n",
       "      <th>1</th>\n",
       "      <td>1</td>\n",
       "      <td>AWS Toolkit for Microsoft Azure DevOps User Gu...</td>\n",
       "      <td>2</td>\n",
       "      <td>582</td>\n",
       "      <td>0</td>\n",
       "      <td>582</td>\n",
       "    </tr>\n",
       "    <tr>\n",
       "      <th>2</th>\n",
       "      <td>2</td>\n",
       "      <td>AWS Toolkit for Microsoft Azure DevOps User Gu...</td>\n",
       "      <td>3</td>\n",
       "      <td>983</td>\n",
       "      <td>0</td>\n",
       "      <td>983</td>\n",
       "    </tr>\n",
       "  </tbody>\n",
       "</table>\n",
       "</div>"
      ],
      "text/plain": [
       "   chunk_id                                               text  page_num  \\\n",
       "0         0  User Guide AWS Toolkit for Microsoft Azure Dev...         1   \n",
       "1         1  AWS Toolkit for Microsoft Azure DevOps User Gu...         2   \n",
       "2         2  AWS Toolkit for Microsoft Azure DevOps User Gu...         3   \n",
       "\n",
       "   char_count  start_char  end_char  \n",
       "0         134           0       134  \n",
       "1         582           0       582  \n",
       "2         983           0       983  "
      ]
     },
     "execution_count": 5,
     "metadata": {},
     "output_type": "execute_result"
    }
   ],
   "source": [
    "df = pd.read_json('../data/processed/chunks.json', orient='records')\n",
    "\n",
    "df.head(3)"
   ]
  },
  {
   "cell_type": "markdown",
   "id": "c570cbf7",
   "metadata": {},
   "source": [
    "# Embeddings Creation"
   ]
  },
  {
   "cell_type": "code",
   "execution_count": 6,
   "id": "d84d687b",
   "metadata": {},
   "outputs": [
    {
     "name": "stdout",
     "output_type": "stream",
     "text": [
      "Loading embedding model...\n",
      "✅ Model loaded: 384 dimensions\n"
     ]
    }
   ],
   "source": [
    "# Load embedding model\n",
    "print(\"Loading embedding model...\")\n",
    "model = SentenceTransformer('all-MiniLM-L6-v2')\n",
    "print(f\"✅ Model loaded: {model.get_sentence_embedding_dimension()} dimensions\")"
   ]
  },
  {
   "cell_type": "code",
   "execution_count": 7,
   "id": "89e710c8",
   "metadata": {},
   "outputs": [
    {
     "name": "stdout",
     "output_type": "stream",
     "text": [
      "Creating embeddings for 300 chunks...\n"
     ]
    },
    {
     "data": {
      "application/vnd.jupyter.widget-view+json": {
       "model_id": "0c2775808e7d4d118824304e0386c1fa",
       "version_major": 2,
       "version_minor": 0
      },
      "text/plain": [
       "Batches:   0%|          | 0/10 [00:00<?, ?it/s]"
      ]
     },
     "metadata": {},
     "output_type": "display_data"
    },
    {
     "name": "stdout",
     "output_type": "stream",
     "text": [
      "✅ Created embeddings with shape: (300, 384)\n"
     ]
    }
   ],
   "source": [
    "# Create embeddings for all chunks\n",
    "print(f\"Creating embeddings for {len(df)} chunks...\")\n",
    "\n",
    "embeddings = model.encode(\n",
    "    df['text'].tolist(),\n",
    "    show_progress_bar=True,\n",
    "    batch_size=32\n",
    ")\n",
    "\n",
    "print(f\"✅ Created embeddings with shape: {embeddings.shape}\")\n",
    "# Expected output: (number_of_chunks, 384)"
   ]
  },
  {
   "cell_type": "code",
   "execution_count": 8,
   "id": "9da28519",
   "metadata": {},
   "outputs": [
    {
     "name": "stdout",
     "output_type": "stream",
     "text": [
      "Sample embedding (first 10 dimensions):\n",
      "[-0.01388389  0.03978214 -0.03466231  0.01785599  0.07080441 -0.0241555\n",
      " -0.02924745 -0.09164825  0.0424548   0.14665551]\n",
      "\n",
      "Embedding statistics:\n",
      "Min value: -0.203\n",
      "Max value: 0.218\n",
      "Mean value: -0.001\n"
     ]
    }
   ],
   "source": [
    "# Let's inspect one embedding\n",
    "print(\"Sample embedding (first 10 dimensions):\")\n",
    "print(embeddings[0][:10])\n",
    "print(f\"\\nEmbedding statistics:\")\n",
    "print(f\"Min value: {embeddings.min():.3f}\")\n",
    "print(f\"Max value: {embeddings.max():.3f}\")\n",
    "print(f\"Mean value: {embeddings.mean():.3f}\")"
   ]
  },
  {
   "cell_type": "code",
   "execution_count": 9,
   "id": "626f6f15",
   "metadata": {},
   "outputs": [
    {
     "name": "stdout",
     "output_type": "stream",
     "text": [
      "DataFrame shape: (300, 7)\n"
     ]
    },
    {
     "data": {
      "text/html": [
       "<div>\n",
       "<style scoped>\n",
       "    .dataframe tbody tr th:only-of-type {\n",
       "        vertical-align: middle;\n",
       "    }\n",
       "\n",
       "    .dataframe tbody tr th {\n",
       "        vertical-align: top;\n",
       "    }\n",
       "\n",
       "    .dataframe thead th {\n",
       "        text-align: right;\n",
       "    }\n",
       "</style>\n",
       "<table border=\"1\" class=\"dataframe\">\n",
       "  <thead>\n",
       "    <tr style=\"text-align: right;\">\n",
       "      <th></th>\n",
       "      <th>chunk_id</th>\n",
       "      <th>text</th>\n",
       "      <th>page_num</th>\n",
       "      <th>char_count</th>\n",
       "      <th>start_char</th>\n",
       "      <th>end_char</th>\n",
       "      <th>embedding</th>\n",
       "    </tr>\n",
       "  </thead>\n",
       "  <tbody>\n",
       "    <tr>\n",
       "      <th>0</th>\n",
       "      <td>0</td>\n",
       "      <td>User Guide AWS Toolkit for Microsoft Azure Dev...</td>\n",
       "      <td>1</td>\n",
       "      <td>134</td>\n",
       "      <td>0</td>\n",
       "      <td>134</td>\n",
       "      <td>[-0.013883891, 0.039782137, -0.03466231, 0.017...</td>\n",
       "    </tr>\n",
       "    <tr>\n",
       "      <th>1</th>\n",
       "      <td>1</td>\n",
       "      <td>AWS Toolkit for Microsoft Azure DevOps User Gu...</td>\n",
       "      <td>2</td>\n",
       "      <td>582</td>\n",
       "      <td>0</td>\n",
       "      <td>582</td>\n",
       "      <td>[-0.056738224, 0.02857147, -0.036580697, -0.01...</td>\n",
       "    </tr>\n",
       "    <tr>\n",
       "      <th>2</th>\n",
       "      <td>2</td>\n",
       "      <td>AWS Toolkit for Microsoft Azure DevOps User Gu...</td>\n",
       "      <td>3</td>\n",
       "      <td>983</td>\n",
       "      <td>0</td>\n",
       "      <td>983</td>\n",
       "      <td>[0.011543587, 0.018591559, -0.085423455, 0.008...</td>\n",
       "    </tr>\n",
       "  </tbody>\n",
       "</table>\n",
       "</div>"
      ],
      "text/plain": [
       "   chunk_id                                               text  page_num  \\\n",
       "0         0  User Guide AWS Toolkit for Microsoft Azure Dev...         1   \n",
       "1         1  AWS Toolkit for Microsoft Azure DevOps User Gu...         2   \n",
       "2         2  AWS Toolkit for Microsoft Azure DevOps User Gu...         3   \n",
       "\n",
       "   char_count  start_char  end_char  \\\n",
       "0         134           0       134   \n",
       "1         582           0       582   \n",
       "2         983           0       983   \n",
       "\n",
       "                                           embedding  \n",
       "0  [-0.013883891, 0.039782137, -0.03466231, 0.017...  \n",
       "1  [-0.056738224, 0.02857147, -0.036580697, -0.01...  \n",
       "2  [0.011543587, 0.018591559, -0.085423455, 0.008...  "
      ]
     },
     "execution_count": 9,
     "metadata": {},
     "output_type": "execute_result"
    }
   ],
   "source": [
    "# Add embeddings to dataframe (optional, for inspection)\n",
    "df['embedding'] = list(embeddings)\n",
    "\n",
    "print(f\"DataFrame shape: {df.shape}\")\n",
    "df.head(3)"
   ]
  }
 ],
 "metadata": {
  "kernelspec": {
   "display_name": "rag",
   "language": "python",
   "name": "python3"
  },
  "language_info": {
   "codemirror_mode": {
    "name": "ipython",
    "version": 3
   },
   "file_extension": ".py",
   "mimetype": "text/x-python",
   "name": "python",
   "nbconvert_exporter": "python",
   "pygments_lexer": "ipython3",
   "version": "3.12.12"
  }
 },
 "nbformat": 4,
 "nbformat_minor": 5
}
